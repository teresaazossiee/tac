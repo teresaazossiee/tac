{
 "cells": [
  {
   "cell_type": "markdown",
   "metadata": {},
   "source": [
    "# Extraction de Keywords"
   ]
  },
  {
   "cell_type": "markdown",
   "metadata": {},
   "source": [
    "## Imports"
   ]
  },
  {
   "cell_type": "code",
   "execution_count": 1,
   "metadata": {},
   "outputs": [],
   "source": [
    "import os\n",
    "import yake"
   ]
  },
  {
   "cell_type": "markdown",
   "metadata": {},
   "source": [
    "## Extraire les mots clés d'un document avec Yake"
   ]
  },
  {
   "cell_type": "markdown",
   "metadata": {},
   "source": [
    "https://github.com/LIAAD/yake"
   ]
  },
  {
   "cell_type": "code",
   "execution_count": 2,
   "metadata": {},
   "outputs": [
    {
     "data": {
      "text/plain": [
       "<yake.yake.KeywordExtractor at 0x7fdd851f49d0>"
      ]
     },
     "execution_count": 2,
     "metadata": {},
     "output_type": "execute_result"
    }
   ],
   "source": [
    "# Instantier l'extracteur de mots clés\n",
    "kw_extractor = yake.KeywordExtractor(lan=\"fr\", top=50)\n",
    "kw_extractor"
   ]
  },
  {
   "cell_type": "code",
   "execution_count": 4,
   "metadata": {},
   "outputs": [],
   "source": [
    "# Lister les Fichiers\n",
    "data_path = \"../data/txt/\"\n",
    "files = [f for f in os.listdir(data_path) if f.endswith('.txt') and str(1970)in f]"
   ]
  },
  {
   "cell_type": "code",
   "execution_count": 5,
   "metadata": {},
   "outputs": [
    {
     "data": {
      "text/plain": [
       "100"
      ]
     },
     "execution_count": 5,
     "metadata": {},
     "output_type": "execute_result"
    }
   ],
   "source": [
    "# Imprimer le nombre de fichiers identifiés\n",
    "len(files)"
   ]
  },
  {
   "cell_type": "code",
   "execution_count": 6,
   "metadata": {},
   "outputs": [
    {
     "data": {
      "text/plain": [
       "['KB_JB838_1970-09-06_01-00004.txt',\n",
       " 'KB_JB838_1970-09-12_01-00013.txt',\n",
       " 'KB_JB838_1970-12-06_01-00007.txt',\n",
       " 'KB_JB838_1970-06-02_01-00032.txt',\n",
       " 'KB_JB838_1970-11-28_01-00031.txt',\n",
       " 'KB_JB838_1970-10-28_01-00016.txt',\n",
       " 'KB_JB838_1970-06-18_01-00025.txt',\n",
       " 'KB_JB838_1970-12-05_01-00019.txt',\n",
       " 'KB_JB838_1970-10-10_01-00035.txt',\n",
       " 'KB_JB838_1970-03-27_01-00018.txt']"
      ]
     },
     "execution_count": 6,
     "metadata": {},
     "output_type": "execute_result"
    }
   ],
   "source": [
    "# Les dix premiers fichiers\n",
    "files[:10]"
   ]
  },
  {
   "cell_type": "code",
   "execution_count": 7,
   "metadata": {},
   "outputs": [
    {
     "data": {
      "text/plain": [
       "'KB_JB838_1970-09-06_01-00004.txt'"
      ]
     },
     "execution_count": 7,
     "metadata": {},
     "output_type": "execute_result"
    }
   ],
   "source": [
    "# Choisir un fichier\n",
    "this_file = files[0]\n",
    "this_file"
   ]
  },
  {
   "cell_type": "code",
   "execution_count": 8,
   "metadata": {},
   "outputs": [
    {
     "data": {
      "text/plain": [
       "\"LE som DIMANCHE 6 ET LUNDI 7 SEPTEMBRE 1970 INFORMATIONS GÉNÉRALES Au cours do la nuit de mardi Rixs fratricide à Neerpede # Un facteur des postes, en effectuant sa tournée samedi midi, a découvert le drame # Dans la soirée le meurtrier François Schoonjans était arrêté près d'Alost Samedi, peu avant midi, un meurtre a été découvert à Neerpede, un hameau d’Anderlecht. Quelques heures plus tard, le mèurtrler était arreté aux environs d’Alost. 11 s’agissait du frère cadet de la victime. Albert Scho\""
      ]
     },
     "execution_count": 8,
     "metadata": {},
     "output_type": "execute_result"
    }
   ],
   "source": [
    "# Récupérer le texte du fichier\n",
    "text = open(os.path.join(data_path, this_file), 'r', encoding='utf-8').read()\n",
    "text[:500]"
   ]
  },
  {
   "cell_type": "code",
   "execution_count": 9,
   "metadata": {},
   "outputs": [
    {
     "data": {
      "text/plain": [
       "[('ans', 0.0060039119567110765),\n",
       " ('rue', 0.007106021434325711),\n",
       " ('samedi', 0.00778422135200326),\n",
       " ('d’une', 0.008337996561944396),\n",
       " ('voiture', 0.012144189834402302),\n",
       " ('jeune homme', 0.01541852241756025),\n",
       " ('jeune', 0.01711809915906656),\n",
       " ('d’une fracture', 0.018468876364063365),\n",
       " ('mort', 0.020298119598337855),\n",
       " ('police', 0.0211975020442857),\n",
       " ('Albert', 0.021397042925780485),\n",
       " ('blessé', 0.023517196590909097),\n",
       " ('s’est', 0.02394223050530136),\n",
       " ('meurtrier François Schoonjans', 0.024483848906739953),\n",
       " ('François', 0.024805116164834398),\n",
       " ('d’un', 0.02626037176657393),\n",
       " ('SEPTEMBRE', 0.02848328865863005),\n",
       " ('cours', 0.028674419173141046),\n",
       " ('collision s’est produite', 0.028684387131919592),\n",
       " ('collision s’est', 0.028799436003098453),\n",
       " ('qu’il', 0.03018876657988118),\n",
       " ('grièvement blessé', 0.03020703961306689),\n",
       " ('voiture conduite', 0.03336099484245169),\n",
       " ('GÉNÉRALES Au cours', 0.0334444605808151),\n",
       " ('mort d’un policier', 0.03440846964330832),\n",
       " ('Atteint d’une fracture', 0.03462649631286708),\n",
       " ('fut', 0.03580854948794041),\n",
       " ('frère', 0.03628919533550484),\n",
       " ('frères', 0.03628919533550484),\n",
       " ('habitant', 0.03639392577226075),\n",
       " ('suites d’une', 0.03652024830361928),\n",
       " ('cours d’une', 0.036698902955780405),\n",
       " ('collision', 0.03755228686278756),\n",
       " ('François Schoonjans', 0.03933961482196892),\n",
       " ('victime', 0.040080425097973466),\n",
       " ('victime d’un', 0.04097256991180143),\n",
       " ('INFORMATIONS GÉNÉRALES', 0.04156552569156515),\n",
       " ('Albert Schoonjans', 0.042549229475908744),\n",
       " ('maison', 0.04418905275220662),\n",
       " ('mardi Rixs', 0.04448678783596752),\n",
       " ('vendredi', 0.04611117048733274),\n",
       " ('Panthères', 0.04650266644334323),\n",
       " ('transporté', 0.04690731862241874),\n",
       " ('clinique', 0.047190502165219764),\n",
       " ('homme', 0.04742330584860128),\n",
       " ('Panthères noires', 0.047672299191500477),\n",
       " ('Schoonjans', 0.047684955199109445),\n",
       " ('grièvement', 0.04768899319075486),\n",
       " ('frères Schoonjans travaillait', 0.04921831870472104),\n",
       " ('découvert', 0.05006884090959141)]"
      ]
     },
     "execution_count": 9,
     "metadata": {},
     "output_type": "execute_result"
    }
   ],
   "source": [
    "# Extraire les mots clés de ce texte\n",
    "keywords = kw_extractor.extract_keywords(text)\n",
    "keywords"
   ]
  },
  {
   "cell_type": "code",
   "execution_count": 10,
   "metadata": {},
   "outputs": [
    {
     "data": {
      "text/plain": [
       "['jeune homme',\n",
       " 'd’une fracture',\n",
       " 'collision s’est',\n",
       " 'grièvement blessé',\n",
       " 'voiture conduite',\n",
       " 'suites d’une',\n",
       " 'cours d’une',\n",
       " 'François Schoonjans',\n",
       " 'victime d’un',\n",
       " 'INFORMATIONS GÉNÉRALES',\n",
       " 'Albert Schoonjans',\n",
       " 'mardi Rixs',\n",
       " 'Panthères noires']"
      ]
     },
     "execution_count": 10,
     "metadata": {},
     "output_type": "execute_result"
    }
   ],
   "source": [
    "# Ne garder que les bigrammes\n",
    "kept = []\n",
    "for kw, score in keywords:\n",
    "    words = kw.split()\n",
    "    if len(words) == 2:\n",
    "        kept.append(kw)\n",
    "kept"
   ]
  },
  {
   "cell_type": "markdown",
   "metadata": {},
   "source": [
    "## Faire la même opération sur tous les documents"
   ]
  },
  {
   "cell_type": "code",
   "execution_count": 11,
   "metadata": {},
   "outputs": [
    {
     "name": "stdout",
     "output_type": "stream",
     "text": [
      "KB_JB838_1970-01-03_01-00002.txt mentions these keywords: Banque Nationale, SECTEUR PUBLIC, banques centrales, docteur Wynen, Commission nationale, Conseil d’Etat, fonds publics, Chambre syndicale, bureau politique, Fonds monétaire, Prévoyance sociale, politique économique, docteur Henrard...\n",
      "KB_JB838_1970-01-06_01-00004.txt mentions these keywords: grièvement blessé, PLUIES TORRENTIELLES, voiture conduite, grippe asiatique, Vingt-six morts, Joseph Matagne, fut tué, Raymond Moris...\n",
      "KB_JB838_1970-01-07_01-00020.txt mentions these keywords: GENERAL BISCUITS, BISCUITS PROMOTEUR, Bar dem, Mrs Johnson, engage GENERAL, Mrs Hawkins, dem. fem, Bar dem., bon salaire...\n",
      "KB_JB838_1970-01-09_01-00010.txt mentions these keywords: rue Belliard, THEATRE NATIONAL, Cirque Royal, THEATRE FLAMAND, Grand film, Claude François, Walter Matthau, van een, Cactus Flower, Alain Delon, Walt Disney, som VENDREDI, Laterna Magika, Grand Prix, Jean Gabln, Enfants admis...\n",
      "KB_JB838_1970-01-10_01-00029.txt mentions these keywords: SERVANTE INTERNE, servante int, Agence Rossel, ROCHER demxnd., dem. fem, Bons gages, Bon salaire...\n",
      "KB_JB838_1970-01-18_01-00013.txt mentions these keywords: défense locale, but visiteur, coup franc, but fut, partie fut, jeu fut, Van Hove, l’équipe locale, but adverse, tir fut, dernières minutes...\n",
      "KB_JB838_1970-01-21_01-00011.txt mentions these keywords: stade Fallon, Vingt-quatre joueurs, JEAN NICOLAY, Mexique n’est...\n",
      "KB_JB838_1970-01-22_01-00032.txt mentions these keywords: Van Laethem, Agence Rossel, cse santé, Ecrire Agence, LESOIR JEUDI...\n",
      "KB_JB838_1970-01-25_01-00014.txt mentions these keywords: Remis SERIE, JUNIORS SERIE, Serge Reding, Prix d’Amérique, SCOLAIRES SERIE, Prix Junior, BRABANT SERIE, LUXEMBOURG SERIE, Wécrat SERIE, Jamalla SERIE, Kaetbe SERIE, Cbanche SERIE, Mmirery SERIE, Vlrtou SERIE, Keufchtteae SERIE, Pais SERIE, Prix Lord, prince Albert...\n",
      "KB_JB838_1970-02-04_01-00006.txt mentions these keywords: vol. S’engouffrant, Reine Elisabeth, PREMIERE PAGE, VOIR DEBUT, Comité national, Centre reine, jeune homme, Buenos Aires, bandits s'emparent...\n"
     ]
    }
   ],
   "source": [
    "for f in sorted(files)[:10]:\n",
    "    text = open(os.path.join(data_path, f), 'r', encoding=\"utf-8\").read()\n",
    "    keywords = kw_extractor.extract_keywords(text)\n",
    "    kept = []\n",
    "    for kw, score in keywords:\n",
    "        words = kw.split()\n",
    "        if len(words) == 2:\n",
    "            kept.append(kw)\n",
    "    print(f\"{f} mentions these keywords: {', '.join(kept)}...\")"
   ]
  }
 ],
 "metadata": {
  "kernelspec": {
   "display_name": "tac_venv",
   "language": "python",
   "name": "python3"
  },
  "language_info": {
   "codemirror_mode": {
    "name": "ipython",
    "version": 3
   },
   "file_extension": ".py",
   "mimetype": "text/x-python",
   "name": "python",
   "nbconvert_exporter": "python",
   "pygments_lexer": "ipython3",
   "version": "3.11.2"
  }
 },
 "nbformat": 4,
 "nbformat_minor": 4
}
